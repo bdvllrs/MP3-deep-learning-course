{
 "cells": [
  {
   "cell_type": "markdown",
   "metadata": {},
   "source": [
    "**You may need to install [OpenCV](https://pypi.python.org/pypi/opencv-python) and [scikit-video](http://www.scikit-video.org/stable/).**"
   ]
  },
  {
   "cell_type": "code",
   "execution_count": 1,
   "metadata": {},
   "outputs": [
    {
     "name": "stderr",
     "output_type": "stream",
     "text": [
      "Using TensorFlow backend.\n"
     ]
    }
   ],
   "source": [
    "import keras\n",
    "import numpy as np\n",
    "import io\n",
    "import base64\n",
    "from IPython.display import HTML\n",
    "import skvideo.io\n",
    "import cv2\n",
    "import json\n",
    "import random\n",
    "\n",
    "from keras.models import Sequential,model_from_json\n",
    "from keras.layers.core import Dense\n",
    "from keras.optimizers import sgd, Adam\n",
    "from keras.layers import Conv2D, MaxPooling2D, Activation, AveragePooling2D, Reshape, BatchNormalization\n",
    "import keras.backend as K"
   ]
  },
  {
   "cell_type": "markdown",
   "metadata": {},
   "source": [
    "# MiniProject #3: Deep Reinforcement Learning"
   ]
  },
  {
   "cell_type": "markdown",
   "metadata": {},
   "source": [
    "__Notations__: $E_p$ is the expectation under probability $p$. Please justify each of your answer and widely comment your code."
   ]
  },
  {
   "cell_type": "markdown",
   "metadata": {},
   "source": [
    "# Context"
   ]
  },
  {
   "cell_type": "markdown",
   "metadata": {},
   "source": [
    "In a reinforcement learning algorithm, we modelize each step $t$ as an action $a_t$ obtained from a state $s_t$, i.e. $\\{(a_{t},s_{t})_{t\\leq T}\\}$ having the Markov property. We consider a discount factor $\\gamma \\in [0,1]$ that ensures convergence. The goal is to find among all the policies $\\pi$, one that maximizes the expected reward:\n",
    "\n",
    "\\begin{equation*}\n",
    "R(\\pi)=\\sum_{t\\leq T}E_{p^{\\pi}}[\\gamma^t r(s_{t},a_{t})] \\> ,\n",
    "\\end{equation*}\n",
    "\n",
    "where: \n",
    "\\begin{equation*}p^{\\pi}(a_{0},a_{1},s_{1},...,a_{T},s_{T})=p(a_{0})\\prod_{t=1}^{T}\\pi(a_{t}|s_{t})p(s_{t+1}|s_{t},a_{t}) \\> .\n",
    "\\end{equation*}\n",
    "\n",
    "We note the $Q$-function:\n",
    "\n",
    "\\begin{equation*}Q^\\pi(s,a)=E_{p^{\\pi}}[\\sum_{t\\leq T}\\gamma^{t}r(s_{t},a_{t})|s_{0}=s,a_{0}=a] \\> .\n",
    "\\end{equation*}\n",
    "\n",
    "Thus, the optimal Q function is:\n",
    "\\begin{equation*}\n",
    "Q^*(s,a)=\\max_{\\pi}Q^\\pi(s,a) \\> .\n",
    "\\end{equation*}\n",
    "\n",
    "In this project, we will apply the deep reinforcement learning techniques to a simple game: an agent will have to learn from scratch a policy that will permit it maximizing a reward."
   ]
  },
  {
   "cell_type": "markdown",
   "metadata": {},
   "source": [
    "## The environment, the agent and the game"
   ]
  },
  {
   "cell_type": "markdown",
   "metadata": {},
   "source": [
    "### The environment"
   ]
  },
  {
   "cell_type": "markdown",
   "metadata": {},
   "source": [
    "```Environment``` is an abstract class that represents the states, rewards, and actions to obtain the new state."
   ]
  },
  {
   "cell_type": "code",
   "execution_count": 2,
   "metadata": {},
   "outputs": [],
   "source": [
    "class Environment(object):\n",
    "    def __init__(self):\n",
    "        pass\n",
    "\n",
    "    def act(self, act):\n",
    "        \"\"\"\n",
    "        One can act on the environment and obtain its reaction:\n",
    "        - the new state\n",
    "        - the reward of the new state\n",
    "        - should we continue the game?\n",
    "\n",
    "        :return: state, reward, game_over\n",
    "        \"\"\"\n",
    "        pass\n",
    "\n",
    "\n",
    "    def reset(self):\n",
    "        \"\"\"\n",
    "        Reinitialize the environment to a random state and returns\n",
    "        the original state\n",
    "\n",
    "        :return: state\n",
    "        \"\"\"\n",
    "        pass\n",
    "    \n",
    "    def draw(self):\n",
    "        \"\"\"\n",
    "        Visualize in the console or graphically the current state\n",
    "        \"\"\"\n",
    "        pass"
   ]
  },
  {
   "cell_type": "markdown",
   "metadata": {},
   "source": [
    "The method ```act``` allows to act on the environment at a given state $s_t$ (stored internally), via action $a_t$. The method will return the new state $s_{t+1}$, the reward $r(s_{t},a_{t})$ and determines if $t\\leq T$ (*game_over*).\n",
    "\n",
    "The method ```reset``` simply reinitializes the environment to a random state $s_0$.\n",
    "\n",
    "The method ```draw``` displays the current state $s_t$ (this is useful to check the behavior of the Agent).\n",
    "\n",
    "We modelize $s_t$ as a tensor, while $a_t$ is an integer."
   ]
  },
  {
   "cell_type": "markdown",
   "metadata": {},
   "source": [
    "### The Agent"
   ]
  },
  {
   "cell_type": "markdown",
   "metadata": {},
   "source": [
    "The goal of the ```Agent``` is to interact with the ```Environment``` by proposing actions $a_t$ obtained from a given state $s_t$ to attempt to maximize its __reward__ $r(s_t,a_t)$. We propose the following abstract class:"
   ]
  },
  {
   "cell_type": "code",
   "execution_count": 3,
   "metadata": {},
   "outputs": [],
   "source": [
    "class Agent(object):\n",
    "    def __init__(self, epsilon=0.1, n_action=4):\n",
    "        self.epsilon = epsilon\n",
    "        self.n_action = n_action\n",
    "    \n",
    "    def set_epsilon(self,e):\n",
    "        self.epsilon = e\n",
    "\n",
    "    def act(self, s, train=True):\n",
    "        \"\"\" This function should return the next action to do:\n",
    "        an integer between 0 and 4 (not included) with a random exploration of epsilon\"\"\"\n",
    "        if train:\n",
    "            if np.random.rand() <= self.epsilon:\n",
    "                a = np.random.randint(0, self.n_action, size=1)[0]\n",
    "            else:\n",
    "                a = self.learned_act(s)\n",
    "        else: # in some cases, this can improve the performance.. remove it if poor performances\n",
    "            a = self.learned_act(s)\n",
    "\n",
    "        return a\n",
    "\n",
    "    def learned_act(self, s):\n",
    "        \"\"\" Act via the policy of the agent, from a given state s\n",
    "        it proposes an action a\"\"\"\n",
    "        pass\n",
    "\n",
    "    def reinforce(self, s, n_s, a, r, game_over_):\n",
    "        \"\"\" This function is the core of the learning algorithm. \n",
    "        It takes as an input the current state s_, the next state n_s_\n",
    "        the action a_ used to move from s_ to n_s_ and the reward r_.\n",
    "        \n",
    "        Its goal is to learn a policy.\n",
    "        \"\"\"\n",
    "        pass\n",
    "\n",
    "    def save(self):\n",
    "        \"\"\" This function returns basic stats if applicable: the\n",
    "        loss and/or the model\"\"\"\n",
    "        pass\n",
    "\n",
    "    def load(self):\n",
    "        \"\"\" This function allows to restore a model\"\"\"\n",
    "        pass"
   ]
  },
  {
   "cell_type": "markdown",
   "metadata": {},
   "source": [
    "***\n",
    "__Question 1__:\n",
    "Explain the function act. Why is ```epsilon``` essential?"
   ]
  },
  {
   "cell_type": "markdown",
   "metadata": {},
   "source": [
    "> The method `Agent.act(state, train=True)` is where the agent is deciding what to do. It takes the current state of the environment as an input (`state`) and tries to predict the action to perform.\n",
    ">\n",
    "> However, the agent needs to learn what is the best action to perform. At the first time step, the agent has no idea what it supposed to do. Inspired by trial and error, in reinforcement learning, the agent has to experiment new behaviors to find the one the most rewarding: which yields the greated expected cumulative reward (or expected return $R(\\pi)$).\n",
    ">\n",
    "> This trial and error behavior is called the exploration/exploitation policy and the most common one, is the $\\varepsilon$-greedy (`Agent.epsilon`) exploration policy. With some probibility $\\varepsilon$, the agent will explore (draw an action at random) and otherwise, it will exploit the policy that it has learned.\n",
    ">\n",
    "> This way, the agent needs to explore greatly in the early stages, then decrease the $\\varepsilon$ value to use the knowledge acquired until now."
   ]
  },
  {
   "cell_type": "markdown",
   "metadata": {},
   "source": [
    "***\n",
    "### The Game"
   ]
  },
  {
   "cell_type": "markdown",
   "metadata": {},
   "source": [
    "The ```Agent``` and the ```Environment``` work in an interlaced way as in the following (take some time to understand this code as it is the core of the project)\n",
    "\n",
    "```python\n",
    "\n",
    "epoch = 300\n",
    "env = Environment()\n",
    "agent = Agent()\n",
    "\n",
    "\n",
    "# Number of won games\n",
    "score = 0\n",
    "loss = 0\n",
    "\n",
    "\n",
    "for e in range(epoch):\n",
    "    # At each epoch, we restart to a fresh game and get the initial state\n",
    "    state = env.reset()\n",
    "    # This assumes that the games will end\n",
    "    game_over = False\n",
    "\n",
    "    win = 0\n",
    "    lose = 0\n",
    "    \n",
    "    while not game_over:\n",
    "        # The agent performs an action\n",
    "        action = agent.act(state)\n",
    "\n",
    "        # Apply an action to the environment, get the next state, the reward\n",
    "        # and if the games end\n",
    "        prev_state = state\n",
    "        state, reward, game_over = env.act(action)\n",
    "\n",
    "        # Update the counters\n",
    "        if reward > 0:\n",
    "            win = win + reward\n",
    "        if reward < 0:\n",
    "            lose = lose -reward\n",
    "\n",
    "        # Apply the reinforcement strategy\n",
    "        loss = agent.reinforce(prev_state, state,  action, reward, game_over)\n",
    "\n",
    "    # Save as a mp4\n",
    "    if e % 10 == 0:\n",
    "        env.draw(e)\n",
    "\n",
    "    # Update stats\n",
    "    score += win-lose\n",
    "\n",
    "    print(\"Epoch {:03d}/{:03d} | Loss {:.4f} | Win/lose count {}/{} ({})\"\n",
    "          .format(e, epoch, loss, win, lose, win-lose))\n",
    "    agent.save()\n",
    "```"
   ]
  },
  {
   "cell_type": "markdown",
   "metadata": {},
   "source": [
    "# The game, *eat cheese*"
   ]
  },
  {
   "cell_type": "markdown",
   "metadata": {},
   "source": [
    "A rat runs on an island and tries to eat as much as possible. The island is subdivided into $N\\times N$ cells, in which there are cheese (+0.5) and poisonous cells (-1). The rat has a visibility of 2 cells (thus it can see $5^2$ cells). The rat is given a time $T$ to accumulate as much food as possible. It can perform 4 actions: going up, down, left, right. \n",
    "\n",
    "The goal is to code an agent to solve this task that will learn by trial and error. We propose the following environment:"
   ]
  },
  {
   "cell_type": "code",
   "execution_count": 4,
   "metadata": {},
   "outputs": [],
   "source": [
    "class Environment(object):\n",
    "    def __init__(self, grid_size=10, max_time=500, temperature=0.1):\n",
    "        grid_size = grid_size+4\n",
    "        self.grid_size = grid_size\n",
    "        self.max_time = max_time\n",
    "        self.temperature = temperature\n",
    "\n",
    "        #board on which one plays\n",
    "        self.board = np.zeros((grid_size,grid_size))\n",
    "        self.position = np.zeros((grid_size,grid_size))\n",
    "\n",
    "        # coordinate of the cat\n",
    "        self.x = 0\n",
    "        self.y = 1\n",
    "\n",
    "        # self time\n",
    "        self.t = 0\n",
    "\n",
    "        self.scale=16\n",
    "\n",
    "        self.to_draw = np.zeros((max_time+2, grid_size*self.scale, grid_size*self.scale, 3))\n",
    "\n",
    "\n",
    "    def draw(self,e):\n",
    "        skvideo.io.vwrite(\"vid/\" + str(e) + '.mp4', self.to_draw)\n",
    "\n",
    "    def get_frame(self,t):\n",
    "        b = np.zeros((self.grid_size,self.grid_size,3))+128\n",
    "        b[self.board>0,0] = 256\n",
    "        b[self.board < 0, 2] = 256\n",
    "        b[self.x,self.y,:]=256\n",
    "        b[-2:,:,:]=0\n",
    "        b[:,-2:,:]=0\n",
    "        b[:2,:,:]=0\n",
    "        b[:,:2,:]=0\n",
    "        \n",
    "        b =  cv2.resize(b, None, fx=self.scale, fy=self.scale, interpolation=cv2.INTER_NEAREST)\n",
    "\n",
    "        self.to_draw[t,:,:,:]=b\n",
    "\n",
    "\n",
    "    def act(self, action):\n",
    "        \"\"\"This function returns the new state, reward and decides if the\n",
    "        game ends.\"\"\"\n",
    "\n",
    "        self.get_frame(int(self.t))\n",
    "\n",
    "        self.position = np.zeros((self.grid_size, self.grid_size))\n",
    "\n",
    "        self.position[0:2,:]= -1\n",
    "        self.position[:,0:2] = -1\n",
    "        self.position[-2:, :] = -1\n",
    "        self.position[-2:, :] = -1\n",
    "\n",
    "        self.position[self.x, self.y] = 1\n",
    "        if action == 0:  # Right\n",
    "            if self.x == self.grid_size-3:\n",
    "                self.x = self.x-1\n",
    "            else:\n",
    "                self.x = self.x + 1\n",
    "        elif action == 1:  # Left\n",
    "            if self.x == 2:\n",
    "                self.x = self.x+1\n",
    "            else:\n",
    "                self.x = self.x-1\n",
    "        elif action == 2:  # Up\n",
    "            if self.y == self.grid_size - 3:\n",
    "                self.y = self.y - 1\n",
    "            else:\n",
    "                self.y = self.y + 1\n",
    "        elif action == 3:  # Down\n",
    "            if self.y == 2:\n",
    "                self.y = self.y + 1\n",
    "            else:\n",
    "                self.y = self.y - 1\n",
    "        else:\n",
    "            RuntimeError('Error: action not recognized')\n",
    "\n",
    "        self.t = self.t + 1\n",
    "        reward = self.board[self.x, self.y]\n",
    "        self.board[self.x, self.y] = 0\n",
    "        game_over = self.t > self.max_time\n",
    "        state = np.concatenate((self.board.reshape(self.grid_size, self.grid_size,1),\n",
    "                        self.position.reshape(self.grid_size, self.grid_size,1)),axis=2)\n",
    "        state = state[self.x-2:self.x+3,self.y-2:self.y+3,:]\n",
    "\n",
    "        return state, reward, game_over\n",
    "\n",
    "    def reset(self):\n",
    "        \"\"\"This function resets the game and returns the initial state\"\"\"\n",
    "\n",
    "        self.x = np.random.randint(3, self.grid_size-3, size=1)[0]\n",
    "        self.y = np.random.randint(3, self.grid_size-3, size=1)[0]\n",
    "\n",
    "\n",
    "        bonus = 0.5*np.random.binomial(1,self.temperature,size=self.grid_size**2)\n",
    "        bonus = bonus.reshape(self.grid_size,self.grid_size)\n",
    "\n",
    "        malus = -1.0*np.random.binomial(1,self.temperature,size=self.grid_size**2)\n",
    "        malus = malus.reshape(self.grid_size, self.grid_size)\n",
    "\n",
    "        self.to_draw = np.zeros((self.max_time+2, self.grid_size*self.scale, self.grid_size*self.scale, 3))\n",
    "\n",
    "\n",
    "        malus[bonus>0]=0\n",
    "\n",
    "        self.board = bonus + malus\n",
    "\n",
    "        self.position = np.zeros((self.grid_size, self.grid_size))\n",
    "        self.position[0:2,:]= -1\n",
    "        self.position[:,0:2] = -1\n",
    "        self.position[-2:, :] = -1\n",
    "        self.position[-2:, :] = -1\n",
    "        self.board[self.x,self.y] = 0\n",
    "        self.t = 0\n",
    "\n",
    "        state = np.concatenate((\n",
    "                               self.board.reshape(self.grid_size, self.grid_size,1),\n",
    "                        self.position.reshape(self.grid_size, self.grid_size,1)),axis=2)\n",
    "\n",
    "        state = state[self.x - 2:self.x + 3, self.y - 2:self.y + 3, :]\n",
    "        return state"
   ]
  },
  {
   "cell_type": "markdown",
   "metadata": {},
   "source": [
    "The following elements are important because they correspond to the hyper parameters for this project:"
   ]
  },
  {
   "cell_type": "code",
   "execution_count": 5,
   "metadata": {},
   "outputs": [],
   "source": [
    "# parameters\n",
    "size = 13\n",
    "T=200\n",
    "temperature=0.3\n",
    "epochs_train=50 # set small when debugging\n",
    "epochs_test=11 # set small when debugging\n",
    "\n",
    "# display videos\n",
    "def display_videos(name):\n",
    "    video = io.open(\"vid/\" + name, 'r+b').read()\n",
    "    encoded = base64.b64encode(video)\n",
    "    return '''<video alt=\"test\" controls>\n",
    "                <source src=\"data:video/mp4;base64,{0}\" type=\"video/mp4\" />\n",
    "             </video>'''.format(encoded.decode('ascii'))"
   ]
  },
  {
   "cell_type": "markdown",
   "metadata": {},
   "source": [
    "__Question 2__ Explain the use of the arrays ```position``` and ```board```."
   ]
  },
  {
   "cell_type": "markdown",
   "metadata": {},
   "source": [
    "> The array `board` represents the poison and food in the game. It can also be viewed as the reward attributed to each position on the board for the agent.\n",
    ">\n",
    "> The `position` array represents the topology of the board: -1 on the sides to prevent the rat from going out of the board.\n",
    ">\n",
    "> The state is the combination of the two for a view radius of 2."
   ]
  },
  {
   "cell_type": "markdown",
   "metadata": {},
   "source": [
    "## Random Agent"
   ]
  },
  {
   "cell_type": "markdown",
   "metadata": {},
   "source": [
    "***\n",
    "__Question 3__ Implement a random Agent (only ```learned_act``` needs to be implemented):"
   ]
  },
  {
   "cell_type": "code",
   "execution_count": 6,
   "metadata": {},
   "outputs": [],
   "source": [
    "class RandomAgent(Agent):\n",
    "    def __init__(self):\n",
    "        super(RandomAgent, self).__init__()\n",
    "        pass\n",
    "\n",
    "    def learned_act(self, s, train=True):\n",
    "        return np.random.randint(0, 4, size=1)[0]"
   ]
  },
  {
   "cell_type": "markdown",
   "metadata": {},
   "source": [
    "***\n",
    "***\n",
    "__Question 4__ Visualize the game moves. You need to fill in the following function for the evaluation:"
   ]
  },
  {
   "cell_type": "code",
   "execution_count": 7,
   "metadata": {},
   "outputs": [],
   "source": [
    "def test(agent,env,epochs,prefix=''):\n",
    "    # Number of won games\n",
    "    score = 0\n",
    "        \n",
    "    for e in range(epochs):\n",
    "        \n",
    "         # At each epoch, we restart to a fresh game and get the initial state\n",
    "        state = env.reset()\n",
    "        # This assumes that the games will end\n",
    "        game_over = False\n",
    "\n",
    "        win = 0\n",
    "        lose = 0\n",
    "\n",
    "        while not game_over:\n",
    "            # The agent performs an action\n",
    "            action = agent.act(state, train=False)\n",
    "\n",
    "            # Apply an action to the environment, get the next state, the reward\n",
    "            # and if the games end\n",
    "            prev_state = state\n",
    "            state, reward, game_over = env.act(action)\n",
    "\n",
    "            # Update the counters\n",
    "            if reward > 0:\n",
    "                win = win + reward\n",
    "            if reward < 0:\n",
    "                lose = lose -reward\n",
    "        \n",
    "        # Save as a mp4\n",
    "        env.draw(prefix+str(e))\n",
    "\n",
    "        # Update stats\n",
    "        score = score + win-lose\n",
    "\n",
    "        print(\"Win/lose count {}/{}. Average score ({})\"\n",
    "              .format(win, lose, score/(1+e)))\n",
    "    print('Final score: '+str(score/epochs))"
   ]
  },
  {
   "cell_type": "code",
   "execution_count": 8,
   "metadata": {
    "scrolled": true
   },
   "outputs": [
    {
     "name": "stdout",
     "output_type": "stream",
     "text": [
      "Win/lose count 7.5/14.0. Average score (-6.5)\n",
      "Win/lose count 10.5/21.0. Average score (-8.5)\n",
      "Win/lose count 8.5/15.0. Average score (-7.833333333333333)\n",
      "Win/lose count 11.0/19.0. Average score (-7.875)\n",
      "Win/lose count 8.5/14.0. Average score (-7.4)\n",
      "Win/lose count 4.5/15.0. Average score (-7.916666666666667)\n",
      "Win/lose count 11.5/10.0. Average score (-6.571428571428571)\n",
      "Win/lose count 12.5/8.0. Average score (-5.1875)\n",
      "Win/lose count 6.0/15.0. Average score (-5.611111111111111)\n",
      "Win/lose count 8.5/15.0. Average score (-5.7)\n",
      "Win/lose count 9.0/17.0. Average score (-5.909090909090909)\n",
      "Final score: -5.909090909090909\n"
     ]
    },
    {
     "data": {
      "text/html": [
       "<video alt=\"test\" controls>\n",
       "                <source src=\"data:video/mp4;base64,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\" type=\"video/mp4\" />\n",
       "             </video>"
      ],
      "text/plain": [
       "<IPython.core.display.HTML object>"
      ]
     },
     "execution_count": 8,
     "metadata": {},
     "output_type": "execute_result"
    }
   ],
   "source": [
    "# Initialize the game\n",
    "env = Environment(grid_size=size, max_time=T,temperature=temperature)\n",
    "\n",
    "# Initialize the agent!\n",
    "agent = RandomAgent()\n",
    "\n",
    "test(agent,env,epochs_test,prefix='random')\n",
    "HTML(display_videos('random0.mp4'))"
   ]
  },
  {
   "cell_type": "markdown",
   "metadata": {},
   "source": [
    "***\n",
    "## DQN"
   ]
  },
  {
   "cell_type": "markdown",
   "metadata": {},
   "source": [
    "Let us assume here that $T=\\infty$.\n",
    "\n",
    "***\n",
    "__Question 5__ Let $\\pi$ be a policy, show that:\n",
    "\n",
    "\\begin{equation*}\n",
    "Q^{\\pi}(s,a)=E_{(s',a')\\sim p(.|s,a)}[r(s,a)+\\gamma Q^{\\pi}(s',a')]\n",
    "\\end{equation*}\n",
    "\n",
    "Then, show that for the optimal policy $\\pi^*$ (we assume its existence), the following holds: \n",
    "\n",
    "\\begin{equation*}\n",
    "Q^{*}(s,a)=E_{s'\\sim \\pi^*(.|s,a)}[r(s,a)+\\gamma\\max_{a'}Q^{*}(s',a')].\n",
    "\\end{equation*}\n",
    "Finally, deduce that a plausible objective is:\n",
    "\n",
    "\\begin{equation*}\n",
    "\\mathcal{L}(\\theta)=E_{s' \\sim \\pi^*(.|s,a)}\\Vert r+\\gamma\\max\\max_{a'}Q(s',a',\\theta)-Q(s,a,\\theta)\\Vert^{2}.\n",
    "\\end{equation*}\n",
    "\n",
    "\n"
   ]
  },
  {
   "cell_type": "markdown",
   "metadata": {},
   "source": [
    "> Here, we show that $Q^{\\pi}$ follows the Bellman equation:\n",
    ">\n",
    "> \n",
    "> \\begin{equation*}\n",
    " \\begin{aligned}\n",
    "Q^{\\pi}(s, a) &= \\mathbb{E}(\\sum_{t \\le T} \\gamma^t r(s_t, a_t) | s_0 = s, a_0 = a, \\cdots, a_t=\\pi(s_t)) \\\\\n",
    "            &= r(s, a) + \\mathbb{E}(\\sum_{1 \\le t \\le T} \\gamma^t r(s_t, \\pi(a_t)) | s_0 = s, a_0 = a)\n",
    "\\end{aligned}\n",
    "\\end{equation*}\n",
    ">\n",
    "> Then using the law of total expectations:\n",
    ">\n",
    "> \n",
    ">\\begin{equation*}\n",
    "\\begin{aligned}\n",
    "Q^{\\pi}(s, a) &= r(s, a) + \\gamma \\sum_{s', a'} \\mathbb{P}(s_1 = s', a_1 = a'| s_0 = s, a_0 = a)\\mathbb{E}(\\sum_{1 \\le t \\le T} \\gamma^{t-1} r(s_t, \\pi(s_t)) | s_1 = s', a_1 = a', \\pi) \\\\\n",
    "               &= E_{(s',a')\\sim p(.|s,a)}[r(s,a)+\\gamma Q^{\\pi}(s',a')]\n",
    "\\end{aligned}\n",
    "\\end{equation*}\n",
    "> \n",
    "> Fo the second inequatily, we use the fact that $Q^* = \\max_{\\pi}Q^\\pi$ and, with similar derivations:\n",
    ">\n",
    ">\\begin{equation*}\n",
    "\\begin{aligned}\n",
    "Q^*(s, a) &= r(s, a) + \\gamma \\sum_{s'} \\max_{a'} \\mathbb{P}(s_1 = s', a_1 = a'| s_0 = s, a_0 = a)\\mathbb{E}(\\sum_{1 \\le t \\le T} \\gamma^{t-1} r(s_t, \\pi^*(s_t)) | s_1 = s', a_1 = a', \\pi^*) \\\\\n",
    "               &= E_{s'\\sim \\pi^*(.|s,a)}[r(s,a)+\\gamma \\max_{a'}Q^*(s',a')]\n",
    "\\end{aligned}\n",
    "\\end{equation*}\n",
    ">\n",
    "> The learning problem is translated into finding the optimal policy $\\pi^*$. Instead of looking directly for its value, we look for the optimal action-value function $Q^*$.\n",
    ">\n",
    "> Using the fact that the optimal Bellman operator admits a fixed point which is $Q^*$, we can deduce that\n",
    "> $\\mathcal{L}$ is a correct loss and represent the temporal difference between $Q_t$ and $Q_{t+1}$."
   ]
  },
  {
   "cell_type": "markdown",
   "metadata": {},
   "source": [
    "***\n",
    "The DQN-learning algorithm relies on these derivations to train the parameters $\\theta$ of a Deep Neural Network:\n",
    "\n",
    "1. At the state $s_t$, select the action $a_t$ with best reward using $Q_t$ and store the results;\n",
    "\n",
    "2. Obtain the new state $s_{t+1}$ from the environment $p$;\n",
    "\n",
    "3. Store $(s_t,a_t,s_{t+1})$;\n",
    "\n",
    "4. Obtain $Q_{t+1}$ by minimizing  $\\mathcal{L}$ from a recovered batch from the previously stored results.\n",
    "\n",
    "***\n",
    "__Question 6__ Implement the class ```Memory``` that stores moves (in a replay buffer) via ```remember``` and provides a ```random_access``` to these. Specify a maximum memory size to avoid side effects. You can for example use a ```list()``` and set by default ```max_memory=100```."
   ]
  },
  {
   "cell_type": "code",
   "execution_count": 9,
   "metadata": {},
   "outputs": [],
   "source": [
    "class Memory(object):\n",
    "    def __init__(self, max_memory=100):\n",
    "        self.max_memory = max_memory\n",
    "        self.memory = list()\n",
    "\n",
    "    def remember(self, m):\n",
    "        if len(self.memory) == self.max_memory:\n",
    "            self.memory.pop(0)\n",
    "        self.memory.append(m)\n",
    "\n",
    "    def __len__(self):\n",
    "        return len(self.memory)\n",
    "        \n",
    "    def random_access(self):\n",
    "        return random.sample(self.memory, 1)[0]"
   ]
  },
  {
   "cell_type": "markdown",
   "metadata": {},
   "source": [
    "***\n",
    "The pipeline we will use for training is given below:"
   ]
  },
  {
   "cell_type": "code",
   "execution_count": 10,
   "metadata": {},
   "outputs": [],
   "source": [
    "def train(agent,env,epoch,prefix=''):\n",
    "    # Number of won games\n",
    "    score = 0\n",
    "    loss = 0\n",
    "\n",
    "    for e in range(epoch):\n",
    "        # At each epoch, we restart to a fresh game and get the initial state\n",
    "        state = env.reset()\n",
    "        # This assumes that the games will terminate\n",
    "        game_over = False\n",
    "\n",
    "        win = 0\n",
    "        lose = 0\n",
    "\n",
    "        while not game_over:\n",
    "            # The agent performs an action\n",
    "            action = agent.act(state)\n",
    "\n",
    "            # Apply an action to the environment, get the next state, the reward\n",
    "            # and if the games end\n",
    "            prev_state = state\n",
    "            state, reward, game_over = env.act(action)\n",
    "\n",
    "            # Update the counters\n",
    "            if reward > 0:\n",
    "                win = win + reward\n",
    "            if reward < 0:\n",
    "                lose = lose -reward\n",
    "\n",
    "            # Apply the reinforcement strategy\n",
    "            loss = agent.reinforce(prev_state, state,  action, reward, game_over)\n",
    "\n",
    "        # Save as a mp4\n",
    "        if e % 10 == 0:\n",
    "            env.draw(prefix+str(e))\n",
    "\n",
    "        # Update stats\n",
    "        score += win-lose\n",
    "\n",
    "        print(\"Epoch {:03d}/{:03d} | Loss {:.4f} | Win/lose count {}/{} ({})\"\n",
    "              .format(e, epoch, loss, win, lose, win-lose))\n",
    "        agent.save(name_weights=\"models/\" + prefix+'model.h5',name_model=\"models/\" + prefix+'model.json')"
   ]
  },
  {
   "cell_type": "markdown",
   "metadata": {},
   "source": [
    "***\n",
    "__Question 7__ Implement the DQN training algorithm using a cascade of fully connected layers. You can use different learning rate, batch size or memory size parameters. In particular, the loss might oscillate while the player will start to win the games. You have to find a good criterium."
   ]
  },
  {
   "cell_type": "code",
   "execution_count": 11,
   "metadata": {},
   "outputs": [],
   "source": [
    "class DQN(Agent):\n",
    "    def __init__(self, grid_size,  epsilon = 0.1, memory_size=100, batch_size = 16,n_state=2):\n",
    "        super(DQN, self).__init__(epsilon = epsilon)\n",
    "\n",
    "        # Discount for Q learning\n",
    "        self.discount = 0.99\n",
    "        \n",
    "        self.grid_size = grid_size\n",
    "        \n",
    "        # number of state\n",
    "        self.n_state = n_state\n",
    "\n",
    "        # Memory\n",
    "        self.memory = Memory(memory_size)\n",
    "        \n",
    "        # Batch size when learning\n",
    "        self.batch_size = batch_size\n",
    "\n",
    "    def learned_act(self, s):\n",
    "        s = np.expand_dims(s, axis=0)\n",
    "        y = self.model.predict(s, batch_size=1)[0]\n",
    "        return np.argmax(y)\n",
    "\n",
    "    def reinforce(self, s_, n_s_, a_, r_, game_over_):\n",
    "        # Two steps: first memorize the states, second learn from the pool\n",
    "        self.memory.remember([s_, n_s_, a_, r_, game_over_])\n",
    "        \n",
    "        input_states = np.zeros((self.batch_size, 5,5,self.n_state))\n",
    "        target_q = np.zeros((self.batch_size, 4))\n",
    "        if len(self.memory) >= self.batch_size:\n",
    "            for i in range(self.batch_size):\n",
    "                s, n_s, a, r, game_over = self.memory.random_access()\n",
    "\n",
    "                input_states[i] = s\n",
    "                \n",
    "                # Set target to prediction so that it only learns for selected action\n",
    "                target_q[i] = self.model.predict(np.expand_dims(s, axis=0), batch_size=1)[0]\n",
    "                \n",
    "                # Target for selected action = r + \\gamma * max_{a'} Q(ns, a')\n",
    "                target_q[i, a] = r\n",
    "\n",
    "                if not game_over:\n",
    "                    in_state = np.expand_dims(n_s, axis=0)\n",
    "                    max_value = self.model.predict(in_state, batch_size=1)\n",
    "                    max_value = max_value[0].max()\n",
    "                    target_q[i, a] += self.discount * max_value\n",
    "            ######## FILL IN\n",
    "            # HINT: Clip the target to avoid exploiding gradients.. -- clipping is a bit tighter\n",
    "            target_q = np.clip(target_q, -3, 3)\n",
    "\n",
    "            l = self.model.train_on_batch(input_states, target_q)\n",
    "\n",
    "            return l\n",
    "        \n",
    "    def save(self,name_weights='model.h5',name_model='model.json'):\n",
    "        self.model.save_weights(name_weights, overwrite=True)\n",
    "        with open(name_model, \"w\") as outfile:\n",
    "            json.dump(self.model.to_json(), outfile)\n",
    "            \n",
    "    def load(self,name_weights='model.h5',name_model='model.json'):\n",
    "        with open(name_model, \"r\") as jfile:\n",
    "            model = model_from_json(json.load(jfile))\n",
    "        model.load_weights(name_weights)\n",
    "        model.compile(\"sgd\", \"mse\")\n",
    "        self.model = model\n",
    "    \n",
    "class DQN_FC(DQN):\n",
    "    def __init__(self, *args, lr=0.1,**kwargs):\n",
    "        super(DQN_FC, self).__init__( *args,**kwargs)\n",
    "        \n",
    "        # NN Model\n",
    "        \n",
    "        model = Sequential([\n",
    "            Reshape((-1,), input_shape=(5, 5, self.n_state)),\n",
    "            Dense(64, activation=\"relu\"),\n",
    "            Dense(16, activation=\"relu\"),\n",
    "            Dense(4)\n",
    "        ])\n",
    "        \n",
    "        # model.compile(sgd(lr=lr, decay=1e-4, momentum=0.0), \"mse\")\n",
    "        model.compile(Adam(lr=lr, beta_1=0.9, beta_2=0.999), \"mse\")\n",
    "        self.model = model\n",
    "        "
   ]
  },
  {
   "cell_type": "code",
   "execution_count": 12,
   "metadata": {
    "scrolled": false
   },
   "outputs": [
    {
     "name": "stdout",
     "output_type": "stream",
     "text": [
      "Epoch 000/051 | Loss 0.0209 | Win/lose count 4.0/10.0 (-6.0)\n",
      "Epoch 001/051 | Loss 0.0039 | Win/lose count 3.5/8.0 (-4.5)\n",
      "Epoch 002/051 | Loss 0.0038 | Win/lose count 6.5/6.0 (0.5)\n",
      "Epoch 003/051 | Loss 0.0052 | Win/lose count 8.0/3.0 (5.0)\n",
      "Epoch 004/051 | Loss 0.0033 | Win/lose count 6.0/5.0 (1.0)\n",
      "Epoch 005/051 | Loss 0.0049 | Win/lose count 11.5/5.0 (6.5)\n",
      "Epoch 006/051 | Loss 0.0547 | Win/lose count 7.0/8.0 (-1.0)\n",
      "Epoch 007/051 | Loss 0.0591 | Win/lose count 7.5/0 (7.5)\n",
      "Epoch 008/051 | Loss 0.0022 | Win/lose count 4.0/3.0 (1.0)\n",
      "Epoch 009/051 | Loss 0.0605 | Win/lose count 3.5/3.0 (0.5)\n",
      "Epoch 010/051 | Loss 0.0026 | Win/lose count 7.0/6.0 (1.0)\n",
      "Epoch 011/051 | Loss 0.0024 | Win/lose count 4.5/4.0 (0.5)\n",
      "Epoch 012/051 | Loss 0.0033 | Win/lose count 5.5/1.0 (4.5)\n",
      "Epoch 013/051 | Loss 0.0027 | Win/lose count 11.5/6.0 (5.5)\n",
      "Epoch 014/051 | Loss 0.0034 | Win/lose count 12.0/5.0 (7.0)\n",
      "Epoch 015/051 | Loss 0.0052 | Win/lose count 4.5/6.0 (-1.5)\n",
      "Epoch 016/051 | Loss 0.0019 | Win/lose count 13.0/5.0 (8.0)\n",
      "Epoch 017/051 | Loss 0.0598 | Win/lose count 8.0/5.0 (3.0)\n",
      "Epoch 018/051 | Loss 0.1005 | Win/lose count 7.5/2.0 (5.5)\n",
      "Epoch 019/051 | Loss 0.0044 | Win/lose count 8.5/4.0 (4.5)\n",
      "Epoch 020/051 | Loss 0.0023 | Win/lose count 8.5/3.0 (5.5)\n",
      "Epoch 021/051 | Loss 0.0026 | Win/lose count 6.0/2.0 (4.0)\n",
      "Epoch 022/051 | Loss 0.0018 | Win/lose count 8.5/3.0 (5.5)\n",
      "Epoch 023/051 | Loss 0.0034 | Win/lose count 3.0/2.0 (1.0)\n",
      "Epoch 024/051 | Loss 0.0014 | Win/lose count 11.0/4.0 (7.0)\n",
      "Epoch 025/051 | Loss 0.0046 | Win/lose count 15.0/6.0 (9.0)\n",
      "Epoch 026/051 | Loss 0.0064 | Win/lose count 9.0/7.0 (2.0)\n",
      "Epoch 027/051 | Loss 0.0042 | Win/lose count 12.0/4.0 (8.0)\n",
      "Epoch 028/051 | Loss 0.0041 | Win/lose count 9.5/8.0 (1.5)\n",
      "Epoch 029/051 | Loss 0.0060 | Win/lose count 10.5/3.0 (7.5)\n",
      "Epoch 030/051 | Loss 0.0305 | Win/lose count 8.5/3.0 (5.5)\n",
      "Epoch 031/051 | Loss 0.0042 | Win/lose count 13.0/12.0 (1.0)\n",
      "Epoch 032/051 | Loss 0.0096 | Win/lose count 7.5/4.0 (3.5)\n",
      "Epoch 033/051 | Loss 0.0026 | Win/lose count 8.5/5.0 (3.5)\n",
      "Epoch 034/051 | Loss 0.0027 | Win/lose count 15.0/3.0 (12.0)\n",
      "Epoch 035/051 | Loss 0.0017 | Win/lose count 18.5/3.0 (15.5)\n",
      "Epoch 036/051 | Loss 0.0061 | Win/lose count 12.5/5.0 (7.5)\n",
      "Epoch 037/051 | Loss 0.0251 | Win/lose count 7.0/4.0 (3.0)\n",
      "Epoch 038/051 | Loss 0.0028 | Win/lose count 6.5/4.0 (2.5)\n",
      "Epoch 039/051 | Loss 0.0041 | Win/lose count 10.5/1.0 (9.5)\n",
      "Epoch 040/051 | Loss 0.0023 | Win/lose count 8.0/3.0 (5.0)\n",
      "Epoch 041/051 | Loss 0.0048 | Win/lose count 14.5/7.0 (7.5)\n",
      "Epoch 042/051 | Loss 0.0026 | Win/lose count 16.0/5.0 (11.0)\n",
      "Epoch 043/051 | Loss 0.0019 | Win/lose count 11.5/3.0 (8.5)\n",
      "Epoch 044/051 | Loss 0.0067 | Win/lose count 7.5/1.0 (6.5)\n",
      "Epoch 045/051 | Loss 0.0022 | Win/lose count 5.0/4.0 (1.0)\n",
      "Epoch 046/051 | Loss 0.0020 | Win/lose count 6.0/5.0 (1.0)\n",
      "Epoch 047/051 | Loss 0.0016 | Win/lose count 12.5/6.0 (6.5)\n",
      "Epoch 048/051 | Loss 0.0012 | Win/lose count 5.0/2.0 (3.0)\n",
      "Epoch 049/051 | Loss 0.0024 | Win/lose count 17.0/2.0 (15.0)\n",
      "Epoch 050/051 | Loss 0.0723 | Win/lose count 13.5/3.0 (10.5)\n"
     ]
    },
    {
     "data": {
      "text/html": [
       "<video alt=\"test\" controls>\n",
       "                <source src=\"data:video/mp4;base64,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\" type=\"video/mp4\" />\n",
       "             </video>"
      ],
      "text/plain": [
       "<IPython.core.display.HTML object>"
      ]
     },
     "execution_count": 12,
     "metadata": {},
     "output_type": "execute_result"
    }
   ],
   "source": [
    "env = Environment(grid_size=size, max_time=T, temperature=0.3)\n",
    "agent = DQN_FC(size, lr=.001, epsilon = 0.2, memory_size=2000, batch_size = 32)\n",
    "train(agent, env, 51, prefix='fc_train')\n",
    "HTML(display_videos('fc_train10.mp4'))"
   ]
  },
  {
   "cell_type": "code",
   "execution_count": 13,
   "metadata": {},
   "outputs": [
    {
     "name": "stdout",
     "output_type": "stream",
     "text": [
      "Epoch 000/051 | Loss 0.0066 | Win/lose count 0.5/2.0 (-1.5)\n",
      "Epoch 001/051 | Loss 0.0008 | Win/lose count 1.5/0 (1.5)\n",
      "Epoch 002/051 | Loss 0.0037 | Win/lose count 0.5/2.0 (-1.5)\n",
      "Epoch 003/051 | Loss 0.0039 | Win/lose count 2.5/0 (2.5)\n",
      "Epoch 004/051 | Loss 0.0024 | Win/lose count 1.0/2.0 (-1.0)\n",
      "Epoch 005/051 | Loss 0.0600 | Win/lose count 2.0/1.0 (1.0)\n",
      "Epoch 006/051 | Loss 0.0014 | Win/lose count 0.5/1.0 (-0.5)\n",
      "Epoch 007/051 | Loss 0.0017 | Win/lose count 1.5/0 (1.5)\n",
      "Epoch 008/051 | Loss 0.0026 | Win/lose count 1.0/2.0 (-1.0)\n",
      "Epoch 009/051 | Loss 0.0309 | Win/lose count 2.0/1.0 (1.0)\n",
      "Epoch 010/051 | Loss 0.0021 | Win/lose count 1.0/3.0 (-2.0)\n",
      "Epoch 011/051 | Loss 0.0025 | Win/lose count 2.5/0 (2.5)\n",
      "Epoch 012/051 | Loss 0.0631 | Win/lose count 2.0/1.0 (1.0)\n",
      "Epoch 013/051 | Loss 0.0012 | Win/lose count 2.5/0 (2.5)\n",
      "Epoch 014/051 | Loss 0.0015 | Win/lose count 3.0/3.0 (0.0)\n",
      "Epoch 015/051 | Loss 0.0028 | Win/lose count 1.5/3.0 (-1.5)\n",
      "Epoch 016/051 | Loss 0.0443 | Win/lose count 1.0/2.0 (-1.0)\n",
      "Epoch 017/051 | Loss 0.0014 | Win/lose count 0.5/0 (0.5)\n",
      "Epoch 018/051 | Loss 0.0029 | Win/lose count 2.0/2.0 (0.0)\n",
      "Epoch 019/051 | Loss 0.0038 | Win/lose count 3.0/3.0 (0.0)\n",
      "Epoch 020/051 | Loss 0.0025 | Win/lose count 0.5/1.0 (-0.5)\n",
      "Epoch 021/051 | Loss 0.0069 | Win/lose count 4.0/1.0 (3.0)\n",
      "Epoch 022/051 | Loss 0.0030 | Win/lose count 1.0/0 (1.0)\n",
      "Epoch 023/051 | Loss 0.0017 | Win/lose count 2.5/1.0 (1.5)\n",
      "Epoch 024/051 | Loss 0.0039 | Win/lose count 3.5/0 (3.5)\n",
      "Epoch 025/051 | Loss 0.0051 | Win/lose count 2.0/2.0 (0.0)\n",
      "Epoch 026/051 | Loss 0.0014 | Win/lose count 1.0/2.0 (-1.0)\n",
      "Epoch 027/051 | Loss 0.0025 | Win/lose count 2.5/0 (2.5)\n",
      "Epoch 028/051 | Loss 0.0021 | Win/lose count 1.0/1.0 (0.0)\n",
      "Epoch 029/051 | Loss 0.0019 | Win/lose count 1.0/0 (1.0)\n",
      "Epoch 030/051 | Loss 0.0013 | Win/lose count 3.0/0 (3.0)\n",
      "Epoch 031/051 | Loss 0.0013 | Win/lose count 2.0/0 (2.0)\n",
      "Epoch 032/051 | Loss 0.0379 | Win/lose count 3.5/3.0 (0.5)\n",
      "Epoch 033/051 | Loss 0.0013 | Win/lose count 2.0/0 (2.0)\n",
      "Epoch 034/051 | Loss 0.1236 | Win/lose count 1.5/1.0 (0.5)\n",
      "Epoch 035/051 | Loss 0.0015 | Win/lose count 1.5/2.0 (-0.5)\n",
      "Epoch 036/051 | Loss 0.0069 | Win/lose count 3.0/1.0 (2.0)\n",
      "Epoch 037/051 | Loss 0.0008 | Win/lose count 0.5/1.0 (-0.5)\n",
      "Epoch 038/051 | Loss 0.0501 | Win/lose count 2.0/2.0 (0.0)\n",
      "Epoch 039/051 | Loss 0.0020 | Win/lose count 1.5/0 (1.5)\n",
      "Epoch 040/051 | Loss 0.0064 | Win/lose count 1.5/0 (1.5)\n",
      "Epoch 041/051 | Loss 0.0013 | Win/lose count 0.5/0 (0.5)\n",
      "Epoch 042/051 | Loss 0.0035 | Win/lose count 2.5/3.0 (-0.5)\n",
      "Epoch 043/051 | Loss 0.0118 | Win/lose count 0.5/0 (0.5)\n",
      "Epoch 044/051 | Loss 0.0026 | Win/lose count 2.0/2.0 (0.0)\n",
      "Epoch 045/051 | Loss 0.0009 | Win/lose count 1.5/4.0 (-2.5)\n",
      "Epoch 046/051 | Loss 0.0032 | Win/lose count 0/0 (0)\n",
      "Epoch 047/051 | Loss 0.0014 | Win/lose count 4.0/0 (4.0)\n",
      "Epoch 048/051 | Loss 0.0013 | Win/lose count 0.5/1.0 (-0.5)\n",
      "Epoch 049/051 | Loss 0.0575 | Win/lose count 1.5/1.0 (0.5)\n",
      "Epoch 050/051 | Loss 0.0023 | Win/lose count 2.5/2.0 (0.5)\n"
     ]
    },
    {
     "data": {
      "text/html": [
       "<video alt=\"test\" controls>\n",
       "                <source src=\"data:video/mp4;base64,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\" type=\"video/mp4\" />\n",
       "             </video>"
      ],
      "text/plain": [
       "<IPython.core.display.HTML object>"
      ]
     },
     "execution_count": 13,
     "metadata": {},
     "output_type": "execute_result"
    }
   ],
   "source": [
    "env = Environment(grid_size=size, max_time=T, temperature=0.05)\n",
    "agent = DQN_FC(size, lr=.001, epsilon = 0.2, memory_size=2000, batch_size = 32)\n",
    "train(agent, env, 51, prefix='fc_train_low_temp')\n",
    "HTML(display_videos('fc_train_low_temp10.mp4'))"
   ]
  },
  {
   "cell_type": "markdown",
   "metadata": {},
   "source": [
    "### ***\n",
    "***\n",
    "__Question 8__ Implement the DQN training algorithm using a CNN (for example, 2 convolutional layers and one final fully connected layer)."
   ]
  },
  {
   "cell_type": "code",
   "execution_count": 14,
   "metadata": {},
   "outputs": [],
   "source": [
    "class DQN_CNN(DQN):\n",
    "    def __init__(self, *args,lr=0.1,**kwargs):\n",
    "        super(DQN_CNN, self).__init__(*args,**kwargs)\n",
    "        \n",
    "        model = Sequential([\n",
    "            Conv2D(64, (2, 2), input_shape=(5, 5, self.n_state), \n",
    "                   data_format=\"channels_last\", activation=\"relu\"),\n",
    "            Conv2D(32, (2, 2), activation=\"relu\"),\n",
    "            MaxPooling2D(pool_size=(2, 2)),\n",
    "            Reshape((-1,)),\n",
    "            Dense(4)\n",
    "        ])\n",
    "        \n",
    "        model.compile(Adam(lr=lr, beta_1=0.9, beta_2=0.999), \"mse\")\n",
    "        self.model = model"
   ]
  },
  {
   "cell_type": "code",
   "execution_count": 15,
   "metadata": {},
   "outputs": [
    {
     "name": "stdout",
     "output_type": "stream",
     "text": [
      "Epoch 000/051 | Loss 0.0032 | Win/lose count 5.5/5.0 (0.5)\n",
      "Epoch 001/051 | Loss 0.0039 | Win/lose count 15.0/7.0 (8.0)\n",
      "Epoch 002/051 | Loss 0.0017 | Win/lose count 9.0/8.0 (1.0)\n",
      "Epoch 003/051 | Loss 0.0032 | Win/lose count 11.0/9.0 (2.0)\n",
      "Epoch 004/051 | Loss 0.0021 | Win/lose count 5.0/8.0 (-3.0)\n",
      "Epoch 005/051 | Loss 0.0027 | Win/lose count 13.0/9.0 (4.0)\n",
      "Epoch 006/051 | Loss 0.0055 | Win/lose count 13.0/11.0 (2.0)\n",
      "Epoch 007/051 | Loss 0.0040 | Win/lose count 11.5/7.0 (4.5)\n",
      "Epoch 008/051 | Loss 0.0092 | Win/lose count 6.0/5.0 (1.0)\n",
      "Epoch 009/051 | Loss 0.0028 | Win/lose count 13.0/8.0 (5.0)\n",
      "Epoch 010/051 | Loss 0.0009 | Win/lose count 8.0/3.0 (5.0)\n",
      "Epoch 011/051 | Loss 0.0026 | Win/lose count 11.5/11.0 (0.5)\n",
      "Epoch 012/051 | Loss 0.0439 | Win/lose count 10.0/10.0 (0.0)\n",
      "Epoch 013/051 | Loss 0.0046 | Win/lose count 11.5/11.0 (0.5)\n",
      "Epoch 014/051 | Loss 0.0046 | Win/lose count 9.5/10.0 (-0.5)\n",
      "Epoch 015/051 | Loss 0.0774 | Win/lose count 6.0/5.0 (1.0)\n",
      "Epoch 016/051 | Loss 0.0528 | Win/lose count 12.5/9.0 (3.5)\n",
      "Epoch 017/051 | Loss 0.0591 | Win/lose count 10.5/7.0 (3.5)\n",
      "Epoch 018/051 | Loss 0.0039 | Win/lose count 7.5/9.0 (-1.5)\n",
      "Epoch 019/051 | Loss 0.0024 | Win/lose count 7.0/9.0 (-2.0)\n",
      "Epoch 020/051 | Loss 0.0020 | Win/lose count 15.5/6.0 (9.5)\n",
      "Epoch 021/051 | Loss 0.0020 | Win/lose count 14.0/11.0 (3.0)\n",
      "Epoch 022/051 | Loss 0.0018 | Win/lose count 14.5/11.0 (3.5)\n",
      "Epoch 023/051 | Loss 0.0025 | Win/lose count 9.0/8.0 (1.0)\n",
      "Epoch 024/051 | Loss 0.0016 | Win/lose count 8.5/6.0 (2.5)\n",
      "Epoch 025/051 | Loss 0.0034 | Win/lose count 10.5/9.0 (1.5)\n",
      "Epoch 026/051 | Loss 0.0719 | Win/lose count 9.5/18.0 (-8.5)\n",
      "Epoch 027/051 | Loss 0.0037 | Win/lose count 7.5/6.0 (1.5)\n",
      "Epoch 028/051 | Loss 0.0016 | Win/lose count 9.5/9.0 (0.5)\n",
      "Epoch 029/051 | Loss 0.0355 | Win/lose count 8.5/12.0 (-3.5)\n",
      "Epoch 030/051 | Loss 0.0029 | Win/lose count 7.5/14.0 (-6.5)\n",
      "Epoch 031/051 | Loss 0.0020 | Win/lose count 10.0/12.0 (-2.0)\n",
      "Epoch 032/051 | Loss 0.0045 | Win/lose count 10.5/6.0 (4.5)\n",
      "Epoch 033/051 | Loss 0.0042 | Win/lose count 11.5/10.0 (1.5)\n",
      "Epoch 034/051 | Loss 0.0139 | Win/lose count 12.0/12.0 (0.0)\n",
      "Epoch 035/051 | Loss 0.0047 | Win/lose count 17.5/10.0 (7.5)\n",
      "Epoch 036/051 | Loss 0.0048 | Win/lose count 13.5/16.0 (-2.5)\n",
      "Epoch 037/051 | Loss 0.0028 | Win/lose count 6.0/4.0 (2.0)\n",
      "Epoch 038/051 | Loss 0.0028 | Win/lose count 9.0/11.0 (-2.0)\n",
      "Epoch 039/051 | Loss 0.0034 | Win/lose count 13.0/9.0 (4.0)\n",
      "Epoch 040/051 | Loss 0.0030 | Win/lose count 13.0/4.0 (9.0)\n",
      "Epoch 041/051 | Loss 0.0030 | Win/lose count 12.5/15.0 (-2.5)\n",
      "Epoch 042/051 | Loss 0.0038 | Win/lose count 11.5/9.0 (2.5)\n",
      "Epoch 043/051 | Loss 0.0018 | Win/lose count 11.0/13.0 (-2.0)\n",
      "Epoch 044/051 | Loss 0.0015 | Win/lose count 11.0/10.0 (1.0)\n",
      "Epoch 045/051 | Loss 0.0030 | Win/lose count 13.5/15.0 (-1.5)\n",
      "Epoch 046/051 | Loss 0.0020 | Win/lose count 10.0/8.0 (2.0)\n",
      "Epoch 047/051 | Loss 0.0018 | Win/lose count 4.5/7.0 (-2.5)\n",
      "Epoch 048/051 | Loss 0.0023 | Win/lose count 10.5/7.0 (3.5)\n",
      "Epoch 049/051 | Loss 0.0018 | Win/lose count 14.0/12.0 (2.0)\n",
      "Epoch 050/051 | Loss 0.0025 | Win/lose count 8.5/7.0 (1.5)\n"
     ]
    },
    {
     "data": {
      "text/html": [
       "<video alt=\"test\" controls>\n",
       "                <source src=\"data:video/mp4;base64,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\" type=\"video/mp4\" />\n",
       "             </video>"
      ],
      "text/plain": [
       "<IPython.core.display.HTML object>"
      ]
     },
     "execution_count": 15,
     "metadata": {},
     "output_type": "execute_result"
    }
   ],
   "source": [
    "env = Environment(grid_size=size, max_time=T, temperature=0.3)\n",
    "agent = DQN_CNN(size, lr=.001, epsilon = 0.6, memory_size=2000, batch_size=32)\n",
    "train(agent,env,51,prefix='cnn_train')\n",
    "HTML(display_videos('cnn_train50.mp4'))"
   ]
  },
  {
   "cell_type": "markdown",
   "metadata": {},
   "source": [
    "***\n",
    "***\n",
    "__Question 9__ Test both algorithms and compare their performances. Which issue(s) do you observe? Observe also different behaviors by changing the temperature."
   ]
  },
  {
   "cell_type": "code",
   "execution_count": 18,
   "metadata": {
    "collapsed": true
   },
   "outputs": [
    {
     "name": "stdout",
     "output_type": "stream",
     "text": [
      "Test of the FC\n",
      "Win/lose count 0.5/0. Average score (0.5)\n",
      "Win/lose count 0/0. Average score (0.25)\n",
      "Win/lose count 0/0. Average score (0.16666666666666666)\n",
      "Win/lose count 0/0. Average score (0.125)\n",
      "Win/lose count 0/0. Average score (0.1)\n",
      "Win/lose count 0/0. Average score (0.08333333333333333)\n",
      "Win/lose count 1.0/0. Average score (0.21428571428571427)\n",
      "Win/lose count 0/0. Average score (0.1875)\n",
      "Win/lose count 0.5/0. Average score (0.2222222222222222)\n",
      "Win/lose count 0/0. Average score (0.2)\n",
      "Win/lose count 0/0. Average score (0.18181818181818182)\n",
      "Final score: 0.18181818181818182\n"
     ]
    }
   ],
   "source": [
    "env = Environment(grid_size=size, max_time=T,temperature=0.01)\n",
    "\n",
    "agent_fc_lt = DQN_FC(size, lr=.1, epsilon = 0.1, memory_size=2000, batch_size = 32)\n",
    "agent_fc_lt.load(name_weights='models/fc_train_low_tempmodel.h5',name_model='models/fc_train_low_tempmodel.json')\n",
    "print('Test of the FC')\n",
    "test(agent_fc_lt,env,epochs_test,prefix='fc_test')"
   ]
  },
  {
   "cell_type": "code",
   "execution_count": 19,
   "metadata": {},
   "outputs": [
    {
     "name": "stdout",
     "output_type": "stream",
     "text": [
      "Test of the CNN\n",
      "Win/lose count 0/0. Average score (0.0)\n",
      "Win/lose count 2.5/0. Average score (1.25)\n",
      "Win/lose count 0/0. Average score (0.8333333333333334)\n",
      "Win/lose count 1.5/0. Average score (1.0)\n",
      "Win/lose count 1.0/0. Average score (1.0)\n",
      "Win/lose count 2.0/0. Average score (1.1666666666666667)\n",
      "Win/lose count 0/0. Average score (1.0)\n",
      "Win/lose count 1.0/0. Average score (1.0)\n",
      "Win/lose count 1.5/0. Average score (1.0555555555555556)\n",
      "Win/lose count 0.5/0. Average score (1.0)\n",
      "Win/lose count 1.0/0. Average score (1.0)\n",
      "Final score: 1.0\n",
      "Test of the FC\n",
      "Win/lose count 0/0. Average score (0.0)\n",
      "Win/lose count 4.0/0. Average score (2.0)\n",
      "Win/lose count 0.5/0. Average score (1.5)\n",
      "Win/lose count 3.0/0. Average score (1.875)\n",
      "Win/lose count 1.0/0. Average score (1.7)\n",
      "Win/lose count 2.5/0. Average score (1.8333333333333333)\n",
      "Win/lose count 0.5/0. Average score (1.6428571428571428)\n",
      "Win/lose count 2.5/0. Average score (1.75)\n",
      "Win/lose count 2.5/0. Average score (1.8333333333333333)\n",
      "Win/lose count 2.0/0. Average score (1.85)\n",
      "Win/lose count 0/0. Average score (1.6818181818181819)\n",
      "Final score: 1.6818181818181819\n"
     ]
    }
   ],
   "source": [
    "env = Environment(grid_size=size, max_time=T,temperature=0.3)\n",
    "agent_cnn = DQN_CNN(size, lr=.1, epsilon = 0.1, memory_size=2000, batch_size = 32)\n",
    "agent_cnn.load(name_weights='models/cnn_trainmodel.h5',name_model='models/cnn_trainmodel.json')\n",
    "\n",
    "agent_fc = DQN_FC(size, lr=.1, epsilon = 0.1, memory_size=2000, batch_size = 32)\n",
    "agent_fc.load(name_weights='models/fc_trainmodel.h5',name_model='models/fc_trainmodel.json')\n",
    "print('Test of the CNN')\n",
    "test(agent_cnn,env,epochs_test,prefix='cnn_test')\n",
    "print('Test of the FC')\n",
    "test(agent_fc,env,epochs_test,prefix='fc_test')"
   ]
  },
  {
   "cell_type": "code",
   "execution_count": 20,
   "metadata": {
    "scrolled": true
   },
   "outputs": [
    {
     "data": {
      "text/html": [
       "<video alt=\"test\" controls>\n",
       "                <source src=\"data:video/mp4;base64,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\" type=\"video/mp4\" />\n",
       "             </video>"
      ],
      "text/plain": [
       "<IPython.core.display.HTML object>"
      ]
     },
     "execution_count": 20,
     "metadata": {},
     "output_type": "execute_result"
    }
   ],
   "source": [
    "HTML(display_videos('cnn_test2.mp4'))"
   ]
  },
  {
   "cell_type": "code",
   "execution_count": 21,
   "metadata": {},
   "outputs": [
    {
     "data": {
      "text/html": [
       "<video alt=\"test\" controls>\n",
       "                <source src=\"data:video/mp4;base64,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\" type=\"video/mp4\" />\n",
       "             </video>"
      ],
      "text/plain": [
       "<IPython.core.display.HTML object>"
      ]
     },
     "execution_count": 21,
     "metadata": {},
     "output_type": "execute_result"
    }
   ],
   "source": [
    "HTML(display_videos('fc_test0.mp4'))"
   ]
  },
  {
   "cell_type": "markdown",
   "metadata": {},
   "source": [
    "> We observe that when the proportion of food is important, the rat only gets the food next to him and is avoiding the poison, then go into a useless pattern (like looping between right and left).\n",
    ">\n",
    "> If we decrease the temperature, "
   ]
  },
  {
   "cell_type": "markdown",
   "metadata": {},
   "source": [
    "***\n",
    "\n",
    "The algorithm tends to not explore the map which can be an issue. We propose two ideas in order to encourage exploration:\n",
    "1. Incorporating a decreasing $\\epsilon$-greedy exploration. You can use the method ```set_epsilon```\n",
    "2. Append via the environment a new state that describes if a cell has been visited or not\n",
    "\n",
    "***\n",
    "__Question 10__ Design a new ```train_explore``` function and environment class ```EnvironmentExploring``` to tackle the issue of exploration.\n",
    "\n"
   ]
  },
  {
   "cell_type": "code",
   "execution_count": 22,
   "metadata": {},
   "outputs": [],
   "source": [
    "def train_explore(agent,env,epoch, epsilon_start=0.7, epsilon_end=0.1, epsilon_decay=60000, prefix=''):\n",
    "    # Number of won games\n",
    "    score = 0\n",
    "    loss = 0\n",
    "    steps_done = 0\n",
    "    \n",
    "    agent.set_epsilon(epsilon_start)\n",
    "    \n",
    "    for e in range(epoch):\n",
    "       \n",
    "        \n",
    "        # At each epoch, we restart to a fresh game and get the initial state\n",
    "        state = env.reset()\n",
    "        # This assumes that the games will terminate\n",
    "        game_over = False\n",
    "\n",
    "        win = 0\n",
    "        lose = 0\n",
    "\n",
    "        while not game_over:\n",
    "            # The agent performs an action\n",
    "            action = agent.act(state)\n",
    "\n",
    "            # Apply an action to the environment, get the next state, the reward\n",
    "            # and if the games end\n",
    "            prev_state = state\n",
    "            state, reward, game_over = env.act(action, train=True)\n",
    "\n",
    "            # Update the counters\n",
    "            if reward > 0:\n",
    "                win = win + reward\n",
    "            if reward < 0:\n",
    "                lose = lose -reward\n",
    "\n",
    "            # Apply the reinforcement strategy\n",
    "            loss = agent.reinforce(prev_state, state,  action, reward, game_over)\n",
    "            \n",
    "            eps_threshold = epsilon_start + (epsilon_end - epsilon_start) * steps_done / epsilon_decay\n",
    "        \n",
    "            agent.set_epsilon(eps_threshold)\n",
    "            steps_done += 1\n",
    "\n",
    "        # Save as a mp4\n",
    "        if e % 10 == 0:\n",
    "            env.draw(prefix+str(e))\n",
    "\n",
    "        # Update stats\n",
    "        score += win-lose\n",
    "\n",
    "        print(\"Epoch {:03d}/{:03d} | Loss {:.4f} | Win/lose count {}/{} ({})\"\n",
    "              .format(e, epoch, loss, win, lose, win-lose))\n",
    "        agent.save(name_weights=\"models/\" + prefix+'model.h5',name_model=\"models/\" + prefix+'model.json')\n",
    "        \n",
    "class EnvironmentExploring(Environment):\n",
    "    def __init__(self, grid_size=10, max_time=500, temperature=0.1):\n",
    "        super(EnvironmentExploring, self).__init__(grid_size, max_time, temperature)\n",
    "        \n",
    "        self.malus_position = np.zeros_like(self.position)\n",
    "    \n",
    "    def act(self, action, train=False):\n",
    "        \"\"\"This function returns the new state, reward and decides if the\n",
    "        game ends.\"\"\"\n",
    "\n",
    "        self.get_frame(int(self.t))\n",
    "\n",
    "        self.position = np.zeros((self.grid_size, self.grid_size))\n",
    "\n",
    "        self.position[0:2,:]= -1\n",
    "        self.position[:,0:2] = -1\n",
    "        self.position[-2:, :] = -1\n",
    "        self.position[-2:, :] = -1\n",
    "\n",
    "        self.position[self.x, self.y] = 1\n",
    "        \n",
    "        # WHAT CHANGED\n",
    "        # we add explored cases here\n",
    "        self.malus_position[self.x, self.y] += 0.1\n",
    "        ##########\n",
    "        \n",
    "        if action == 0:  # Right\n",
    "            if self.x == self.grid_size-3:\n",
    "                self.x = self.x-1\n",
    "            else:\n",
    "                self.x = self.x + 1\n",
    "        elif action == 1:  # Left\n",
    "            if self.x == 2:\n",
    "                self.x = self.x+1\n",
    "            else:\n",
    "                self.x = self.x-1\n",
    "        elif action == 2:  # Up\n",
    "            if self.y == self.grid_size - 3:\n",
    "                self.y = self.y - 1\n",
    "            else:\n",
    "                self.y = self.y + 1\n",
    "        elif action == 3:  # Down\n",
    "            if self.y == 2:\n",
    "                self.y = self.y + 1\n",
    "            else:\n",
    "                self.y = self.y - 1\n",
    "        else:\n",
    "            RuntimeError('Error: action not recognized')\n",
    "            \n",
    "\n",
    "        self.t = self.t + 1\n",
    "        reward = self.board[self.x, self.y]\n",
    "        if train:\n",
    "            reward -= self.malus_position[self.x, self.y]\n",
    "        self.board[self.x, self.y] = 0\n",
    "        game_over = self.t > self.max_time\n",
    "        state = np.concatenate((self.board.reshape(self.grid_size, self.grid_size,1),\n",
    "                                self.position.reshape(self.grid_size, self.grid_size,1),\n",
    "                                self.malus_position.reshape(self.grid_size, self.grid_size,1)),axis=2)\n",
    "        state = state[self.x-2:self.x+3,self.y-2:self.y+3,:]\n",
    "\n",
    "        return state, reward, game_over\n",
    "\n",
    "    def reset(self):\n",
    "        \"\"\"This function resets the game and returns the initial state\"\"\"\n",
    "\n",
    "        self.x = np.random.randint(3, self.grid_size-3, size=1)[0]\n",
    "        self.y = np.random.randint(3, self.grid_size-3, size=1)[0]\n",
    "\n",
    "\n",
    "        bonus = 0.5*np.random.binomial(1,self.temperature,size=self.grid_size**2)\n",
    "        bonus = bonus.reshape(self.grid_size,self.grid_size)\n",
    "\n",
    "        malus = -1.0*np.random.binomial(1,self.temperature,size=self.grid_size**2)\n",
    "        malus = malus.reshape(self.grid_size, self.grid_size)\n",
    "\n",
    "        self.to_draw = np.zeros((self.max_time+2, self.grid_size*self.scale, self.grid_size*self.scale, 3))\n",
    "\n",
    "\n",
    "        malus[bonus>0]=0\n",
    "\n",
    "        self.board = bonus + malus\n",
    "\n",
    "        self.position = np.zeros((self.grid_size, self.grid_size))\n",
    "        self.malus_position = np.zeros_like(self.position)\n",
    "        \n",
    "        self.position[0:2,:]= -1\n",
    "        self.position[:,0:2] = -1\n",
    "        self.position[-2:, :] = -1\n",
    "        self.position[-2:, :] = -1\n",
    "        self.board[self.x,self.y] = 0\n",
    "        self.t = 0\n",
    "\n",
    "        state = np.concatenate((self.board.reshape(self.grid_size, self.grid_size,1),\n",
    "                                self.position.reshape(self.grid_size, self.grid_size,1),\n",
    "                                self.malus_position.reshape(self.grid_size, self.grid_size,1)),axis=2)\n",
    "\n",
    "        state = state[self.x - 2:self.x + 3, self.y - 2:self.y + 3, :]\n",
    "        return state\n"
   ]
  },
  {
   "cell_type": "code",
   "execution_count": 23,
   "metadata": {
    "scrolled": false
   },
   "outputs": [
    {
     "name": "stdout",
     "output_type": "stream",
     "text": [
      "Epoch 000/051 | Loss 0.0244 | Win/lose count 15.5/59.2 (-43.7)\n",
      "Epoch 001/051 | Loss 0.0163 | Win/lose count 9.0/37.90000000000003 (-28.900000000000027)\n",
      "Epoch 002/051 | Loss 0.0245 | Win/lose count 11.0/35.300000000000026 (-24.300000000000026)\n",
      "Epoch 003/051 | Loss 0.0095 | Win/lose count 17.0/37.70000000000002 (-20.700000000000017)\n",
      "Epoch 004/051 | Loss 0.0091 | Win/lose count 13.0/38.80000000000004 (-25.80000000000004)\n",
      "Epoch 005/051 | Loss 0.0090 | Win/lose count 14.5/34.500000000000036 (-20.000000000000036)\n",
      "Epoch 006/051 | Loss 0.0109 | Win/lose count 11.5/34.500000000000014 (-23.000000000000014)\n",
      "Epoch 007/051 | Loss 0.0073 | Win/lose count 16.0/38.50000000000002 (-22.50000000000002)\n",
      "Epoch 008/051 | Loss 0.0075 | Win/lose count 16.5/22.900000000000002 (-6.400000000000002)\n",
      "Epoch 009/051 | Loss 0.0102 | Win/lose count 12.5/43.200000000000024 (-30.700000000000024)\n",
      "Epoch 010/051 | Loss 0.0124 | Win/lose count 10.5/40.30000000000002 (-29.80000000000002)\n",
      "Epoch 011/051 | Loss 0.0574 | Win/lose count 16.5/32.300000000000026 (-15.800000000000026)\n",
      "Epoch 012/051 | Loss 0.0133 | Win/lose count 16.0/35.700000000000045 (-19.700000000000045)\n",
      "Epoch 013/051 | Loss 0.0072 | Win/lose count 12.0/43.50000000000004 (-31.500000000000043)\n",
      "Epoch 014/051 | Loss 0.0486 | Win/lose count 15.5/32.00000000000003 (-16.50000000000003)\n",
      "Epoch 015/051 | Loss 0.0116 | Win/lose count 18.5/28.00000000000001 (-9.50000000000001)\n",
      "Epoch 016/051 | Loss 0.0099 | Win/lose count 18.5/29.300000000000015 (-10.800000000000015)\n",
      "Epoch 017/051 | Loss 0.0096 | Win/lose count 13.0/31.700000000000014 (-18.700000000000014)\n",
      "Epoch 018/051 | Loss 0.0198 | Win/lose count 6.0/51.900000000000006 (-45.900000000000006)\n",
      "Epoch 019/051 | Loss 0.0071 | Win/lose count 11.5/39.00000000000002 (-27.50000000000002)\n",
      "Epoch 020/051 | Loss 0.0068 | Win/lose count 18.0/34.20000000000001 (-16.20000000000001)\n",
      "Epoch 021/051 | Loss 0.0113 | Win/lose count 16.0/37.600000000000016 (-21.600000000000016)\n",
      "Epoch 022/051 | Loss 0.0148 | Win/lose count 15.0/34.40000000000005 (-19.40000000000005)\n",
      "Epoch 023/051 | Loss 0.0054 | Win/lose count 20.5/30.400000000000034 (-9.900000000000034)\n",
      "Epoch 024/051 | Loss 0.0195 | Win/lose count 14.5/41.10000000000002 (-26.600000000000023)\n",
      "Epoch 025/051 | Loss 0.0452 | Win/lose count 14.0/30.900000000000013 (-16.900000000000013)\n",
      "Epoch 026/051 | Loss 0.0253 | Win/lose count 15.0/32.30000000000001 (-17.30000000000001)\n",
      "Epoch 027/051 | Loss 0.0135 | Win/lose count 12.5/37.600000000000016 (-25.100000000000016)\n",
      "Epoch 028/051 | Loss 0.0068 | Win/lose count 12.5/41.40000000000002 (-28.90000000000002)\n",
      "Epoch 029/051 | Loss 0.0080 | Win/lose count 11.5/29.100000000000005 (-17.600000000000005)\n",
      "Epoch 030/051 | Loss 0.0066 | Win/lose count 12.5/35.50000000000001 (-23.000000000000007)\n",
      "Epoch 031/051 | Loss 0.0045 | Win/lose count 14.5/35.40000000000004 (-20.90000000000004)\n",
      "Epoch 032/051 | Loss 0.0050 | Win/lose count 18.0/35.10000000000003 (-17.10000000000003)\n",
      "Epoch 033/051 | Loss 0.0056 | Win/lose count 12.0/38.30000000000001 (-26.30000000000001)\n",
      "Epoch 034/051 | Loss 0.0080 | Win/lose count 15.5/35.30000000000002 (-19.80000000000002)\n",
      "Epoch 035/051 | Loss 0.0068 | Win/lose count 12.0/33.20000000000002 (-21.200000000000017)\n",
      "Epoch 036/051 | Loss 0.0079 | Win/lose count 15.5/32.50000000000003 (-17.00000000000003)\n",
      "Epoch 037/051 | Loss 0.0042 | Win/lose count 19.0/27.40000000000002 (-8.40000000000002)\n",
      "Epoch 038/051 | Loss 0.0126 | Win/lose count 12.0/37.80000000000004 (-25.80000000000004)\n",
      "Epoch 039/051 | Loss 0.0134 | Win/lose count 11.0/54.4 (-43.4)\n",
      "Epoch 040/051 | Loss 0.0515 | Win/lose count 13.0/37.70000000000001 (-24.70000000000001)\n",
      "Epoch 041/051 | Loss 0.0119 | Win/lose count 13.5/41.10000000000003 (-27.60000000000003)\n",
      "Epoch 042/051 | Loss 0.0088 | Win/lose count 15.0/33.40000000000004 (-18.40000000000004)\n",
      "Epoch 043/051 | Loss 0.0090 | Win/lose count 21.0/31.50000000000001 (-10.50000000000001)\n",
      "Epoch 044/051 | Loss 0.0092 | Win/lose count 12.0/34.20000000000003 (-22.20000000000003)\n",
      "Epoch 045/051 | Loss 0.0167 | Win/lose count 13.5/39.60000000000003 (-26.10000000000003)\n",
      "Epoch 046/051 | Loss 0.0095 | Win/lose count 16.5/31.10000000000001 (-14.600000000000009)\n",
      "Epoch 047/051 | Loss 0.0077 | Win/lose count 22.5/26.800000000000004 (-4.300000000000004)\n",
      "Epoch 048/051 | Loss 0.0300 | Win/lose count 14.5/35.40000000000002 (-20.90000000000002)\n",
      "Epoch 049/051 | Loss 0.0068 | Win/lose count 18.0/25.300000000000015 (-7.300000000000015)\n",
      "Epoch 050/051 | Loss 0.0535 | Win/lose count 19.5/27.800000000000026 (-8.300000000000026)\n"
     ]
    },
    {
     "data": {
      "text/html": [
       "<video alt=\"test\" controls>\n",
       "                <source src=\"data:video/mp4;base64,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\" type=\"video/mp4\" />\n",
       "             </video>"
      ],
      "text/plain": [
       "<IPython.core.display.HTML object>"
      ]
     },
     "execution_count": 23,
     "metadata": {},
     "output_type": "execute_result"
    }
   ],
   "source": [
    "# Training\n",
    "env = EnvironmentExploring(grid_size=size, max_time=T, temperature=0.3)\n",
    "agent = DQN_CNN(size, lr=.001, epsilon = 0.9, memory_size=2000, batch_size = 32,n_state=3)\n",
    "train_explore(agent, env, 51, epsilon_start=0.7, epsilon_end=0.1, \n",
    "              epsilon_decay=60000, prefix='cnn_train_explore')\n",
    "HTML(display_videos('cnn_train_explore50.mp4'))"
   ]
  },
  {
   "cell_type": "code",
   "execution_count": 24,
   "metadata": {},
   "outputs": [
    {
     "name": "stdout",
     "output_type": "stream",
     "text": [
      "Win/lose count 17.0/4.0. Average score (13.0)\n",
      "Win/lose count 24.5/0. Average score (18.75)\n",
      "Win/lose count 17.5/3.0. Average score (17.333333333333332)\n",
      "Win/lose count 17.5/2.0. Average score (16.875)\n",
      "Win/lose count 22.5/4.0. Average score (17.2)\n",
      "Win/lose count 17.0/2.0. Average score (16.833333333333332)\n",
      "Win/lose count 17.5/1.0. Average score (16.785714285714285)\n",
      "Win/lose count 21.5/3.0. Average score (17.0)\n",
      "Win/lose count 18.0/4.0. Average score (16.666666666666668)\n",
      "Win/lose count 20.5/6.0. Average score (16.45)\n",
      "Win/lose count 16.0/1.0. Average score (16.318181818181817)\n",
      "Win/lose count 22.5/1.0. Average score (16.75)\n",
      "Win/lose count 26.5/3.0. Average score (17.26923076923077)\n",
      "Win/lose count 16.5/5.0. Average score (16.857142857142858)\n",
      "Win/lose count 18.5/2.0. Average score (16.833333333333332)\n",
      "Win/lose count 21.0/3.0. Average score (16.90625)\n",
      "Win/lose count 21.0/3.0. Average score (16.970588235294116)\n",
      "Win/lose count 14.5/5.0. Average score (16.555555555555557)\n",
      "Win/lose count 10.0/3.0. Average score (16.05263157894737)\n",
      "Win/lose count 24.0/1.0. Average score (16.4)\n",
      "Win/lose count 23.5/3.0. Average score (16.595238095238095)\n",
      "Final score: 16.595238095238095\n"
     ]
    },
    {
     "data": {
      "text/html": [
       "<video alt=\"test\" controls>\n",
       "                <source src=\"data:video/mp4;base64,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\" type=\"video/mp4\" />\n",
       "             </video>"
      ],
      "text/plain": [
       "<IPython.core.display.HTML object>"
      ]
     },
     "execution_count": 24,
     "metadata": {},
     "output_type": "execute_result"
    }
   ],
   "source": [
    "# Evaluation\n",
    "test(agent,env,21,prefix='cnn_test_explore')\n",
    "HTML(display_videos('cnn_test_explore0.mp4'))"
   ]
  },
  {
   "cell_type": "markdown",
   "metadata": {},
   "source": [
    "***\n",
    "***\n",
    "__BONUS question__ Use the expert DQN from the previous question to generate some winning games. Train a model that mimicks its behavior. Compare the performances."
   ]
  },
  {
   "cell_type": "code",
   "execution_count": 25,
   "metadata": {},
   "outputs": [],
   "source": [
    "def build_dataset(agent, env, size):\n",
    "    states = []\n",
    "    actions = []\n",
    "        \n",
    "    while len(states) < size:\n",
    "        \n",
    "        # At each epoch, we restart to a fresh game and get the initial state\n",
    "        state = env.reset()\n",
    "        # This assumes that the games will end\n",
    "        game_over = False\n",
    "\n",
    "        while not game_over:\n",
    "            # The agent performs an action\n",
    "            action = agent.act(state, train=False)\n",
    "\n",
    "            # Apply an action to the environment, get the next state, the reward\n",
    "            # and if the games end\n",
    "            prev_state = state\n",
    "            state, reward, game_over = env.act(action)\n",
    "            onehot_action = [0, 0, 0, 0]\n",
    "            onehot_action[action] = 1\n",
    "            if len(states) < size and reward > 0:  # only keep wining examples\n",
    "                states.append(prev_state)\n",
    "                actions.append(onehot_action)\n",
    "    return np.array(states), np.array(actions)"
   ]
  },
  {
   "cell_type": "code",
   "execution_count": 26,
   "metadata": {},
   "outputs": [],
   "source": [
    "dataset_train, target_train = build_dataset(agent, env, size=5000)\n",
    "dataset_test, target_test = build_dataset(agent, env, size=100)\n",
    "dataset_val, target_val = build_dataset(agent, env, size=100)"
   ]
  },
  {
   "cell_type": "code",
   "execution_count": 27,
   "metadata": {},
   "outputs": [],
   "source": [
    "model = Sequential()\n",
    "model.add(Reshape((-1,), input_shape=(5,5,3)))\n",
    "model.add(Dense(64, activation=\"relu\"))\n",
    "model.add(Dense(16, activation=\"relu\"))\n",
    "model.add(Dense(4, activation=\"softmax\"))\n",
    "\n",
    "model.compile(Adam(lr=0.01, beta_1=0.9, beta_2=0.999), \"mse\")"
   ]
  },
  {
   "cell_type": "code",
   "execution_count": 28,
   "metadata": {},
   "outputs": [
    {
     "name": "stdout",
     "output_type": "stream",
     "text": [
      "Train on 5000 samples, validate on 100 samples\n",
      "Epoch 1/50\n",
      "5000/5000 [==============================] - 1s 133us/step - loss: 0.0677 - val_loss: 0.0396\n",
      "Epoch 2/50\n",
      "5000/5000 [==============================] - 0s 46us/step - loss: 0.0350 - val_loss: 0.0465\n",
      "Epoch 3/50\n",
      "5000/5000 [==============================] - 0s 48us/step - loss: 0.0290 - val_loss: 0.0380\n",
      "Epoch 4/50\n",
      "5000/5000 [==============================] - 0s 51us/step - loss: 0.0270 - val_loss: 0.0498\n",
      "Epoch 5/50\n",
      "5000/5000 [==============================] - 0s 48us/step - loss: 0.0232 - val_loss: 0.0400\n",
      "Epoch 6/50\n",
      "5000/5000 [==============================] - 0s 49us/step - loss: 0.0201 - val_loss: 0.0440\n",
      "Epoch 7/50\n",
      "5000/5000 [==============================] - 0s 41us/step - loss: 0.0178 - val_loss: 0.0476\n",
      "Epoch 8/50\n",
      "5000/5000 [==============================] - 0s 49us/step - loss: 0.0186 - val_loss: 0.0343\n",
      "Epoch 9/50\n",
      "5000/5000 [==============================] - 0s 60us/step - loss: 0.0143 - val_loss: 0.0487\n",
      "Epoch 10/50\n",
      "5000/5000 [==============================] - 0s 44us/step - loss: 0.0179 - val_loss: 0.0406\n",
      "Epoch 11/50\n",
      "5000/5000 [==============================] - 0s 43us/step - loss: 0.0149 - val_loss: 0.0413\n",
      "Epoch 12/50\n",
      "5000/5000 [==============================] - 0s 44us/step - loss: 0.0128 - val_loss: 0.0444\n",
      "Epoch 13/50\n",
      "5000/5000 [==============================] - 0s 48us/step - loss: 0.0115 - val_loss: 0.0392\n",
      "Epoch 14/50\n",
      "5000/5000 [==============================] - 0s 42us/step - loss: 0.0099 - val_loss: 0.0514\n",
      "Epoch 15/50\n",
      "5000/5000 [==============================] - 0s 48us/step - loss: 0.0100 - val_loss: 0.0415\n",
      "Epoch 16/50\n",
      "5000/5000 [==============================] - 0s 48us/step - loss: 0.0107 - val_loss: 0.0367\n",
      "Epoch 17/50\n",
      "5000/5000 [==============================] - 0s 44us/step - loss: 0.0137 - val_loss: 0.0340\n",
      "Epoch 18/50\n",
      "5000/5000 [==============================] - 0s 53us/step - loss: 0.0080 - val_loss: 0.0502\n",
      "Epoch 19/50\n",
      "5000/5000 [==============================] - 0s 37us/step - loss: 0.0112 - val_loss: 0.0453\n",
      "Epoch 20/50\n",
      "5000/5000 [==============================] - 0s 49us/step - loss: 0.0130 - val_loss: 0.0444\n",
      "Epoch 21/50\n",
      "5000/5000 [==============================] - 0s 45us/step - loss: 0.0105 - val_loss: 0.0364\n",
      "Epoch 22/50\n",
      "5000/5000 [==============================] - 0s 52us/step - loss: 0.0091 - val_loss: 0.0455\n",
      "Epoch 23/50\n",
      "5000/5000 [==============================] - 0s 35us/step - loss: 0.0104 - val_loss: 0.0504\n",
      "Epoch 24/50\n",
      "5000/5000 [==============================] - 0s 52us/step - loss: 0.0088 - val_loss: 0.0465\n",
      "Epoch 25/50\n",
      "5000/5000 [==============================] - 0s 37us/step - loss: 0.0085 - val_loss: 0.0484\n",
      "Epoch 26/50\n",
      "5000/5000 [==============================] - 0s 45us/step - loss: 0.0064 - val_loss: 0.0493\n",
      "Epoch 27/50\n",
      "5000/5000 [==============================] - 0s 44us/step - loss: 0.0077 - val_loss: 0.0389\n",
      "Epoch 28/50\n",
      "5000/5000 [==============================] - 0s 45us/step - loss: 0.0062 - val_loss: 0.0551\n",
      "Epoch 29/50\n",
      "5000/5000 [==============================] - 0s 40us/step - loss: 0.0062 - val_loss: 0.0434\n",
      "Epoch 30/50\n",
      "5000/5000 [==============================] - 0s 41us/step - loss: 0.0042 - val_loss: 0.0507\n",
      "Epoch 31/50\n",
      "5000/5000 [==============================] - 0s 47us/step - loss: 0.0066 - val_loss: 0.0539\n",
      "Epoch 32/50\n",
      "5000/5000 [==============================] - 0s 48us/step - loss: 0.0059 - val_loss: 0.0544\n",
      "Epoch 33/50\n",
      "5000/5000 [==============================] - 0s 39us/step - loss: 0.0060 - val_loss: 0.0578\n",
      "Epoch 34/50\n",
      "5000/5000 [==============================] - 0s 36us/step - loss: 0.0076 - val_loss: 0.0403\n",
      "Epoch 35/50\n",
      "5000/5000 [==============================] - 0s 38us/step - loss: 0.0096 - val_loss: 0.0338\n",
      "Epoch 36/50\n",
      "5000/5000 [==============================] - 0s 46us/step - loss: 0.0073 - val_loss: 0.0419\n",
      "Epoch 37/50\n",
      "5000/5000 [==============================] - 0s 41us/step - loss: 0.0050 - val_loss: 0.0403\n",
      "Epoch 38/50\n",
      "5000/5000 [==============================] - 0s 39us/step - loss: 0.0052 - val_loss: 0.0484\n",
      "Epoch 39/50\n",
      "5000/5000 [==============================] - 0s 51us/step - loss: 0.0051 - val_loss: 0.0400\n",
      "Epoch 40/50\n",
      "5000/5000 [==============================] - 0s 38us/step - loss: 0.0138 - val_loss: 0.0468\n",
      "Epoch 41/50\n",
      "5000/5000 [==============================] - 0s 45us/step - loss: 0.0074 - val_loss: 0.0413\n",
      "Epoch 42/50\n",
      "5000/5000 [==============================] - 0s 50us/step - loss: 0.0070 - val_loss: 0.0411\n",
      "Epoch 43/50\n",
      "5000/5000 [==============================] - 0s 38us/step - loss: 0.0053 - val_loss: 0.0414\n",
      "Epoch 44/50\n",
      "5000/5000 [==============================] - 0s 35us/step - loss: 0.0071 - val_loss: 0.0482\n",
      "Epoch 45/50\n",
      "5000/5000 [==============================] - 0s 56us/step - loss: 0.0064 - val_loss: 0.0448\n",
      "Epoch 46/50\n",
      "5000/5000 [==============================] - 0s 40us/step - loss: 0.0070 - val_loss: 0.0412\n",
      "Epoch 47/50\n",
      "5000/5000 [==============================] - 0s 38us/step - loss: 0.0090 - val_loss: 0.0499\n",
      "Epoch 48/50\n",
      "5000/5000 [==============================] - 0s 42us/step - loss: 0.0125 - val_loss: 0.0513\n",
      "Epoch 49/50\n",
      "5000/5000 [==============================] - 0s 53us/step - loss: 0.0104 - val_loss: 0.0578\n",
      "Epoch 50/50\n",
      "5000/5000 [==============================] - 0s 41us/step - loss: 0.0074 - val_loss: 0.0651\n"
     ]
    },
    {
     "data": {
      "text/plain": [
       "<keras.callbacks.History at 0x7fb8af361e48>"
      ]
     },
     "execution_count": 28,
     "metadata": {},
     "output_type": "execute_result"
    }
   ],
   "source": [
    "model.fit(dataset_train, target_train, batch_size=64, validation_data=(dataset_val, target_val), epochs=50)"
   ]
  },
  {
   "cell_type": "code",
   "execution_count": 29,
   "metadata": {},
   "outputs": [],
   "source": [
    "def evaluate(agent, env, epochs, prefix=''):\n",
    "    # Number of won games\n",
    "    score = 0\n",
    "        \n",
    "    for e in range(epochs):\n",
    "        \n",
    "         # At each epoch, we restart to a fresh game and get the initial state\n",
    "        state = env.reset()\n",
    "        # This assumes that the games will end\n",
    "        game_over = False\n",
    "\n",
    "        win = 0\n",
    "        lose = 0\n",
    "\n",
    "        while not game_over:\n",
    "            # The agent performs an action\n",
    "            action = agent.predict(np.expand_dims(state, axis=0))[0].argmax()\n",
    "\n",
    "            # Apply an action to the environment, get the next state, the reward\n",
    "            # and if the games end\n",
    "            prev_state = state\n",
    "            state, reward, game_over = env.act(action)\n",
    "\n",
    "            # Update the counters\n",
    "            if reward > 0:\n",
    "                win = win + reward\n",
    "            if reward < 0:\n",
    "                lose = lose -reward\n",
    "        \n",
    "        # Save as a mp4\n",
    "        env.draw(prefix+str(e))\n",
    "\n",
    "        # Update stats\n",
    "        score = score + win-lose\n",
    "\n",
    "        print(\"Win/lose count {}/{}. Average score ({})\"\n",
    "              .format(win, lose, score/(1+e)))\n",
    "    print('Final score: '+str(score/epochs))"
   ]
  },
  {
   "cell_type": "code",
   "execution_count": 30,
   "metadata": {},
   "outputs": [
    {
     "name": "stdout",
     "output_type": "stream",
     "text": [
      "Win/lose count 22.5/3.0. Average score (19.5)\n",
      "Win/lose count 18.0/1.0. Average score (18.25)\n",
      "Win/lose count 25.0/1.0. Average score (20.166666666666668)\n",
      "Win/lose count 18.5/6.0. Average score (18.25)\n",
      "Win/lose count 16.0/3.0. Average score (17.2)\n",
      "Win/lose count 21.0/1.0. Average score (17.666666666666668)\n",
      "Win/lose count 8.0/2.0. Average score (16.0)\n",
      "Win/lose count 22.0/3.0. Average score (16.375)\n",
      "Win/lose count 18.0/1.0. Average score (16.444444444444443)\n",
      "Win/lose count 9.5/5.0. Average score (15.25)\n",
      "Win/lose count 24.5/1.0. Average score (16.0)\n",
      "Win/lose count 15.0/2.0. Average score (15.75)\n",
      "Win/lose count 20.0/2.0. Average score (15.923076923076923)\n",
      "Win/lose count 23.5/2.0. Average score (16.321428571428573)\n",
      "Win/lose count 30.0/0. Average score (17.233333333333334)\n",
      "Win/lose count 5.5/0. Average score (16.5)\n",
      "Win/lose count 25.0/0. Average score (17.0)\n",
      "Win/lose count 19.0/3.0. Average score (16.944444444444443)\n",
      "Win/lose count 21.0/0. Average score (17.157894736842106)\n",
      "Win/lose count 13.0/2.0. Average score (16.85)\n",
      "Win/lose count 20.5/1.0. Average score (16.976190476190474)\n",
      "Final score: 16.976190476190474\n"
     ]
    },
    {
     "data": {
      "text/html": [
       "<video alt=\"test\" controls>\n",
       "                <source src=\"data:video/mp4;base64,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\" type=\"video/mp4\" />\n",
       "             </video>"
      ],
      "text/plain": [
       "<IPython.core.display.HTML object>"
      ]
     },
     "execution_count": 30,
     "metadata": {},
     "output_type": "execute_result"
    }
   ],
   "source": [
    "evaluate(model, env, 21, prefix=\"nonrl_test\")\n",
    "HTML(display_videos('nonrl_test0.mp4'))"
   ]
  },
  {
   "cell_type": "markdown",
   "metadata": {},
   "source": [
    "> We observe that the final score is better than in the RL method and we only use a fully connected network (without convolution layers).\n",
    "> This is because this network has only seen the successful actions of the RL trained model. Moreover, it is much faster to train. Indeed, we need much less data to train this model for it to understand the goal of the game."
   ]
  },
  {
   "cell_type": "markdown",
   "metadata": {},
   "source": [
    "***"
   ]
  }
 ],
 "metadata": {
  "kernelspec": {
   "display_name": "Python 3",
   "language": "python",
   "name": "python3"
  },
  "language_info": {
   "codemirror_mode": {
    "name": "ipython",
    "version": 3
   },
   "file_extension": ".py",
   "mimetype": "text/x-python",
   "name": "python",
   "nbconvert_exporter": "python",
   "pygments_lexer": "ipython3",
   "version": "3.6.7"
  }
 },
 "nbformat": 4,
 "nbformat_minor": 2
}
